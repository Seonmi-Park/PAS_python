{
 "cells": [
  {
   "cell_type": "markdown",
   "metadata": {},
   "source": [
    "- String 문자열\n",
    "- 문자열 타입으로 다 쓴다.\n",
    "- '', \"\" 다 가능\n",
    "- \"\"안에는 '', ''안에는 \"\"(한 줄 짜리 문자열)\n",
    "- \"\"\"문자열\"\"\"도 가능, '''문자열'''도 가능(여러 줄 짜리 문자열)"
   ]
  },
  {
   "cell_type": "code",
   "execution_count": 2,
   "metadata": {},
   "outputs": [
    {
     "name": "stdout",
     "output_type": "stream",
     "text": [
      "hello world\n",
      "'hello'\n",
      "hello python.\n",
      "\n",
      "hello java\n"
     ]
    }
   ],
   "source": [
    "a='hello world'\n",
    "print(a)\n",
    "b=\"'hello'\"\n",
    "print(b)\n",
    "c=\"\"\"hello python.\n",
    "\n",
    "hello java\"\"\"\n",
    "print(c)"
   ]
  },
  {
   "cell_type": "markdown",
   "metadata": {},
   "source": [
    "- escape 문자\n",
    "- |n |t(역슬러시)\n",
    "- 문자열 내에 일부 문자열의 의미를 달리하여 특정한 효과를 주는 것"
   ]
  },
  {
   "cell_type": "code",
   "execution_count": 6,
   "metadata": {},
   "outputs": [
    {
     "name": "stdout",
     "output_type": "stream",
     "text": [
      "hello\n",
      "12345\n",
      "hello\tabcde\n"
     ]
    }
   ],
   "source": [
    "print('hello\\n12345')\n",
    "print('hello\\tabcde')"
   ]
  }
 ],
 "metadata": {
  "kernelspec": {
   "display_name": "Python 3",
   "language": "python",
   "name": "python3"
  },
  "language_info": {
   "codemirror_mode": {
    "name": "ipython",
    "version": 3
   },
   "file_extension": ".py",
   "mimetype": "text/x-python",
   "name": "python",
   "nbconvert_exporter": "python",
   "pygments_lexer": "ipython3",
   "version": "3.7.3"
  }
 },
 "nbformat": 4,
 "nbformat_minor": 2
}
