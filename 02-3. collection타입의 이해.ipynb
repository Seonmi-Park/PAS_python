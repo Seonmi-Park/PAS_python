{
 "cells": [
  {
   "cell_type": "markdown",
   "metadata": {},
   "source": [
    "**- list, 튜플, set, dictionally**\n",
    "- 복수 개의 값을 담을 수 있는 데이터 구조\n",
    "- 컬렉션 프레임워크라고 한다.(자바에서는 list, set, map)\n",
    "- list, dictionally를 자주 사용\n",
    "\n",
    "**- list : 생성한 후에 값 변경이 가능하다.**\n",
    "- 대괄호 안에 값을 담아 만듦 -> [1, 2, 3, 4, 5]\n",
    "- 리스트 함수로 생성 -> list()\n",
    "- str.split()로 리스트 생성"
   ]
  },
  {
   "cell_type": "code",
   "execution_count": 6,
   "metadata": {},
   "outputs": [
    {
     "name": "stdout",
     "output_type": "stream",
     "text": [
      "[]\n"
     ]
    }
   ],
   "source": [
    "a = []\n",
    "print(a)"
   ]
  },
  {
   "cell_type": "code",
   "execution_count": 2,
   "metadata": {},
   "outputs": [
    {
     "name": "stdout",
     "output_type": "stream",
     "text": [
      "[1, 2, 3, 5, 10]\n"
     ]
    }
   ],
   "source": [
    "a = [1,2,3,5,10]\n",
    "print(a)"
   ]
  },
  {
   "cell_type": "code",
   "execution_count": 4,
   "metadata": {},
   "outputs": [
    {
     "name": "stdout",
     "output_type": "stream",
     "text": [
      "['korea', 'canada', 1, 23, [34, 56]]\n"
     ]
    }
   ],
   "source": [
    "a = ['korea','canada',1,23,[34,56]] # 다양한 타입을 담을 수 있음\n",
    "print(a)"
   ]
  },
  {
   "cell_type": "markdown",
   "metadata": {},
   "source": [
    "**- list() 함수**\n",
    "- 다른 데이터 타입을 리스트로 변환할 때도 사용"
   ]
  },
  {
   "cell_type": "code",
   "execution_count": 8,
   "metadata": {},
   "outputs": [
    {
     "name": "stdout",
     "output_type": "stream",
     "text": [
      "['h', 'e', 'l', 'l', 'o', ' ', 'w', 'o', 'r', 'l', 'd']\n",
      "[1, 2, 3]\n"
     ]
    }
   ],
   "source": [
    "a = 'hello world'\n",
    "b = list(a)\n",
    "print(b)\n",
    "\n",
    "c = (1,2,3) # 튜플 : ()\n",
    "d = list(c) # 튜플 list로 변경\n",
    "\n",
    "print(d)"
   ]
  },
  {
   "cell_type": "markdown",
   "metadata": {},
   "source": [
    "**- string split 함수**\n",
    "- 구분자로 구분되는 리스트를 반환 (빈번히 사용 됨)"
   ]
  },
  {
   "cell_type": "code",
   "execution_count": 13,
   "metadata": {},
   "outputs": [
    {
     "name": "stdout",
     "output_type": "stream",
     "text": [
      "['hello', 'world', 'nice', 'weather']\n",
      "['hello world nice weather']\n"
     ]
    }
   ],
   "source": [
    "a = 'hello world nice weather'\n",
    "b = a.split() # list로 자른다.\n",
    "c = a.split(',')\n",
    "\n",
    "print(b)\n",
    "print(c)"
   ]
  },
  {
   "cell_type": "markdown",
   "metadata": {},
   "source": [
    "**- 리스트 indexing**\n",
    "- 문자열의 인덱싱과 동일하게 동작\n",
    "- []연산자를 이용하여 항목 얻어오기\n",
    "- [i] - i번째 원소를 반환\n",
    "- i가 음수인 경우도 가능하며 마지막 원소가 -1로 하여 앞으로 갈때마다 1씩 감소함"
   ]
  },
  {
   "cell_type": "code",
   "execution_count": 15,
   "metadata": {},
   "outputs": [
    {
     "name": "stdout",
     "output_type": "stream",
     "text": [
      "3\n",
      "6\n",
      "6\n"
     ]
    }
   ],
   "source": [
    "a = [1,2,3,4,5,6]\n",
    "print(a[2])\n",
    "print(a[5])\n",
    "print(a[-1])\n",
    "\n",
    "# 자바에서는 마지막 수 : len(a)-1\n",
    "# 파이썬에서 마지막 수 : a[-1]"
   ]
  },
  {
   "cell_type": "markdown",
   "metadata": {},
   "source": [
    "**- 리스트 개별 아이템에 접근**\n",
    "- 인덱스에 접근하여 값을 업데이트 가능"
   ]
  },
  {
   "cell_type": "code",
   "execution_count": 22,
   "metadata": {},
   "outputs": [
    {
     "name": "stdout",
     "output_type": "stream",
     "text": [
      "h\n",
      "jello world\n",
      "jello world\n",
      "jhello world\n",
      "jello world\n",
      "hello world\n"
     ]
    }
   ],
   "source": [
    "# 불변(immutable) : 파이썬에서는 tuple과 문자열은 불변객체임 한번 생성하면 변할 수 없음\n",
    "a = 'hello world'\n",
    "print(a[0])\n",
    "\n",
    "# hello의 h를 j로 바꾸고 싶을 때\n",
    "b = 'jello world'      # 1. 새로 생성하는 방법\n",
    "c = 'j' + a[1:]        # 2. 필요한 문자열만 추가하고 다음 문자열과 합치는 방법\n",
    "f = 'j' + a[:]         # j + hello world\n",
    "print(b)\n",
    "print(c)\n",
    "print(f)\n",
    "\n",
    "d = a.replace('h','j') # 3. replace로 치환 => a는 바뀌지 않음\n",
    "print(d)\n",
    "print(a)\n",
    "\n",
    "a = 'jello world' # 위에 있는 hello world가 지워진 게 아니고 남아있음(객체참조)\n",
    "del(a) # 소멸자"
   ]
  },
  {
   "cell_type": "markdown",
   "metadata": {},
   "source": [
    "**- 리스트 slicing**\n",
    "- 문자열 슬라이싱과 동일하게 동작\n",
    "- 슬라이싱의 결과 역시 list!"
   ]
  },
  {
   "cell_type": "code",
   "execution_count": 26,
   "metadata": {},
   "outputs": [
    {
     "name": "stdout",
     "output_type": "stream",
     "text": [
      "[5, 6, 7]\n",
      "[1, 2, 3, 4, 5, 6, 7]\n",
      "[4, 5, 6, 7, 8]\n",
      "[1, 2, 3, 4, 5, 6, 7, 8]\n"
     ]
    },
    {
     "data": {
      "text/plain": [
       "[2, 4, 6]"
      ]
     },
     "execution_count": 26,
     "metadata": {},
     "output_type": "execute_result"
    }
   ],
   "source": [
    "a = [1,2,3,4,5,6,7,8]\n",
    "print(a[4:7]) # \n",
    "print(a[:7])\n",
    "print(a[3:])\n",
    "print(a[:])\n",
    "\n",
    "# slicing\n",
    "# start:end:increment(1)\n",
    "\n",
    "a[1:7]\n",
    "a[1:7:2] # 마지막 값은 건너띄는 값 (2칸씩 건너 띄고 출력), 기본은 1"
   ]
  },
  {
   "cell_type": "markdown",
   "metadata": {},
   "source": [
    "**- list 멤버 함수**\n",
    "- 생성된 리스트 객체에 동작하는 함수\n",
    "- 향후, 클래스와 멤버 함수 개념을 이해할 예정\n",
    "\n",
    "- append()\n",
    "  - 리스트의 끝에 항목을 추가함"
   ]
  },
  {
   "cell_type": "code",
   "execution_count": 27,
   "metadata": {},
   "outputs": [
    {
     "name": "stdout",
     "output_type": "stream",
     "text": [
      "[1, 2, 3, 4, 5, 10]\n"
     ]
    }
   ],
   "source": [
    "a = [1,2,3,4,5]\n",
    "a.append(10) # a 리스트에 맨 끝에 10을 추가\n",
    "\n",
    "print(a)"
   ]
  },
  {
   "cell_type": "markdown",
   "metadata": {},
   "source": [
    "**- extend()**\n",
    "- 리스트를 연장(확장)\n",
    "- +=로도 가능함"
   ]
  },
  {
   "cell_type": "code",
   "execution_count": 40,
   "metadata": {},
   "outputs": [
    {
     "name": "stdout",
     "output_type": "stream",
     "text": [
      "[1, 2, 3, 4, 5, 6, 7, 8, 9, 10]\n",
      "[1, 2, 3, 4, 5, 6, 7, 8, 9, 10, [6, 7, 8, 9, 10]]\n"
     ]
    }
   ],
   "source": [
    "a = [1,2,3,4,5]\n",
    "b = [6,7,8,9,10]\n",
    "\n",
    "# [1,2,3,4,5,6,7,8,9,10]\n",
    "\n",
    "# a.append(b)하면 [1,2,3,4,5,[6,7,8,9,10]]이 들어감. 추가한 리스트가 하나의 값으로 추가 됨\n",
    "# 리스트를 연장시키고 싶을 때는 extend() 사용\n",
    "a += b # = a.extend(b)\n",
    "\n",
    "print(a)\n",
    "\n",
    "a.append(b)\n",
    "print(a)"
   ]
  },
  {
   "cell_type": "markdown",
   "metadata": {},
   "source": [
    "**- insert()로 항목추가**\n",
    "- 리스트의 원하는 위치에 추가 가능\n",
    "- 앞에 인덱스를, 뒤에 아이템을 명시"
   ]
  },
  {
   "cell_type": "code",
   "execution_count": 41,
   "metadata": {},
   "outputs": [
    {
     "name": "stdout",
     "output_type": "stream",
     "text": [
      "[1, 40, 3, 4, 5, 6]\n"
     ]
    }
   ],
   "source": [
    "a = [1,3,4,5,6]\n",
    "a.insert(1,40) # 1번 인덱스에 40을 추가하고 그 뒤로는 한칸씩 다음으로 인덱스를 이동\n",
    "\n",
    "print(a)"
   ]
  },
  {
   "cell_type": "markdown",
   "metadata": {},
   "source": [
    "**- remove()**\n",
    "- 값으로 항목 삭제(인덱스 아님, 3을 삭제하면 값이 3인 것을 삭제)\n",
    "- 지우려는 값이 2개 있으면 가장 앞에 값만 삭제\n",
    "- 내가 지우려는 값이 list에 없으면 오류 발생"
   ]
  },
  {
   "cell_type": "code",
   "execution_count": 46,
   "metadata": {},
   "outputs": [
    {
     "ename": "ValueError",
     "evalue": "list.remove(x): x not in list",
     "output_type": "error",
     "traceback": [
      "\u001b[1;31m---------------------------------------------------------------------------\u001b[0m",
      "\u001b[1;31mValueError\u001b[0m                                Traceback (most recent call last)",
      "\u001b[1;32m<ipython-input-46-7b5a93178b55>\u001b[0m in \u001b[0;36m<module>\u001b[1;34m\u001b[0m\n\u001b[0;32m      1\u001b[0m \u001b[0ma\u001b[0m \u001b[1;33m=\u001b[0m \u001b[1;33m[\u001b[0m\u001b[1;36m1\u001b[0m\u001b[1;33m,\u001b[0m\u001b[1;36m2\u001b[0m\u001b[1;33m,\u001b[0m\u001b[1;36m30\u001b[0m\u001b[1;33m,\u001b[0m\u001b[1;36m4\u001b[0m\u001b[1;33m,\u001b[0m\u001b[1;36m5\u001b[0m\u001b[1;33m]\u001b[0m\u001b[1;33m\u001b[0m\u001b[1;33m\u001b[0m\u001b[0m\n\u001b[1;32m----> 2\u001b[1;33m \u001b[0ma\u001b[0m\u001b[1;33m.\u001b[0m\u001b[0mremove\u001b[0m\u001b[1;33m(\u001b[0m\u001b[1;36m9\u001b[0m\u001b[1;33m)\u001b[0m \u001b[1;31m# 값이 없으면 오류 발생\u001b[0m\u001b[1;33m\u001b[0m\u001b[1;33m\u001b[0m\u001b[0m\n\u001b[0m\u001b[0;32m      3\u001b[0m \u001b[0mprint\u001b[0m\u001b[1;33m(\u001b[0m\u001b[0ma\u001b[0m\u001b[1;33m)\u001b[0m\u001b[1;33m\u001b[0m\u001b[1;33m\u001b[0m\u001b[0m\n",
      "\u001b[1;31mValueError\u001b[0m: list.remove(x): x not in list"
     ]
    }
   ],
   "source": [
    "a = [1,2,30,4,5]\n",
    "a.remove(9) # 값이 없으면 오류 발생\n",
    "print(a)"
   ]
  },
  {
   "cell_type": "code",
   "execution_count": 45,
   "metadata": {},
   "outputs": [
    {
     "name": "stdout",
     "output_type": "stream",
     "text": [
      "[1, 30, 4, 5]\n"
     ]
    }
   ],
   "source": [
    "a = [1,2,30,4,5]\n",
    "a.remove(2)\n",
    "print(a)"
   ]
  },
  {
   "cell_type": "markdown",
   "metadata": {},
   "source": [
    "**※ 리스트내의 중복값을 제거하고 싶을 때 사용하는 방법**\n",
    "- list를 set()에 넣고 다시 list로 변환하는 방법(list내에 순서가 중요하지 않은 경우)\n",
    "\n",
    "  **list1 = [1, 3, 5, 2, 4, 1, 5]**  \n",
    "  **print list(set(list1))**  \n",
    "  중복제거 전 : [1, 3, 5, 2, 4, 1, 5]  \n",
    "  중복제거 후 : [1, 3, 2, 5, 4]  "
   ]
  },
  {
   "cell_type": "markdown",
   "metadata": {},
   "source": [
    "- Ordered Dict 라이브러리를 사용하는 방법(list내에 순서가 중요한 경우)\n",
    "\n",
    "**from collections import OrderedDict (collections에서 orderedDict를 가져와라)**  \n",
    "\n",
    "  **list2 = [1, 2, 3, 4, 5, 3, 5]**  \n",
    "  **print list(OrderedDict.fromkeys(list2))**  \n",
    "  중복제거 전 : [1, 2, 3, 4, 5, 3, 5]  \n",
    "  중복제거 후 : [1, 2, 3, 4, 5]  "
   ]
  },
  {
   "cell_type": "markdown",
   "metadata": {},
   "source": [
    "- pop()\n",
    "  - 지우고자 하는 아이템을 반환 후, 삭제\n",
    "  - 인덱스로 삭제\n",
    "  - 인덱스를 명시하지 않으면 가장 마지막 값이 삭제 됨"
   ]
  },
  {
   "cell_type": "code",
   "execution_count": 49,
   "metadata": {},
   "outputs": [
    {
     "name": "stdout",
     "output_type": "stream",
     "text": [
      "[1, 2, 4, 5]\n",
      "3\n"
     ]
    }
   ],
   "source": [
    "a = [1,2,3,4,5]\n",
    "d = a.pop(2) # 지워진 값을 변수에 담을 수도 있음(인덱스 2 즉 3이라는 값이 d라는 변수에 담김)\n",
    "\n",
    "print(a) # 인덱스가 2인 3을 없앤 a\n",
    "print(d) # 지워진 3"
   ]
  },
  {
   "cell_type": "markdown",
   "metadata": {},
   "source": [
    "- index()\n",
    "  - 찾고자 하는 값의 인덱스 반환"
   ]
  },
  {
   "cell_type": "code",
   "execution_count": 51,
   "metadata": {},
   "outputs": [
    {
     "data": {
      "text/plain": [
       "3"
      ]
     },
     "execution_count": 51,
     "metadata": {},
     "output_type": "execute_result"
    }
   ],
   "source": [
    "a = [2,6,7,9,10]\n",
    "a.index(9) # 값이 9인 index 반환"
   ]
  },
  {
   "cell_type": "markdown",
   "metadata": {},
   "source": [
    "- in 키워드\n",
    "  - 리스트 내에 해당 값이 존재하는지 확인\n",
    "  - value in [list]\n",
    "  - True, False 중 한가지로 반환"
   ]
  },
  {
   "cell_type": "code",
   "execution_count": 55,
   "metadata": {},
   "outputs": [
    {
     "name": "stdout",
     "output_type": "stream",
     "text": [
      "True\n"
     ]
    }
   ],
   "source": [
    "a = [1,2,3,4,5,10]\n",
    "b = 10\n",
    "\n",
    "c = b in a # False(b의 값이 a 리스트 내에 포함되어 있냐를 boolean로 출력)\n",
    "\n",
    "print(c)"
   ]
  },
  {
   "cell_type": "markdown",
   "metadata": {},
   "source": [
    "- list 정렬\n",
    "  - sort() -> 리스트 자체를 내부적으로 정렬\n",
    "  - sorted() -> 리스트의 정렬된 복사본을 반환"
   ]
  },
  {
   "cell_type": "code",
   "execution_count": 61,
   "metadata": {},
   "outputs": [
    {
     "name": "stdout",
     "output_type": "stream",
     "text": [
      "[21, 20, 19, 10, 9, 8, 7, 7, 2, 1]\n",
      "[1, 2, 7, 7, 8, 9, 10, 19, 20, 21]\n",
      "[21, 20, 19, 10, 9, 8, 7, 7, 2, 1]\n"
     ]
    }
   ],
   "source": [
    "a = [9,10,7,19,1,2,20,21,7,8]\n",
    "a.sort(reverse=True) # reverse=False가 디폴트(오름차순)\n",
    "b = sorted(a) # a는 그대로 두고, a 복사본을 정렬해서 b에 담음\n",
    "print(a)\n",
    "print(b)\n",
    "\n",
    "b.sort(reverse=True)\n",
    "print(b)"
   ]
  },
  {
   "cell_type": "markdown",
   "metadata": {},
   "source": [
    "**- 튜플 : 생성한 후에 값 변경이 불가능하다.(결과 값 반환받을 때 사용)**\n",
    "\n",
    "**- dictionally**\n",
    "- json타입이랑 같다. = 기본 json 구조 -> ['key':'value']\n",
    "- 몽고DB에서 데이터를 넣을 때 json타입으로 넣는다. -> 이것을 파이썬에서는 dictionally타입이라고 부른다."
   ]
  },
  {
   "cell_type": "code",
   "execution_count": null,
   "metadata": {},
   "outputs": [],
   "source": []
  }
 ],
 "metadata": {
  "kernelspec": {
   "display_name": "Python 3",
   "language": "python",
   "name": "python3"
  },
  "language_info": {
   "codemirror_mode": {
    "name": "ipython",
    "version": 3
   },
   "file_extension": ".py",
   "mimetype": "text/x-python",
   "name": "python",
   "nbconvert_exporter": "python",
   "pygments_lexer": "ipython3",
   "version": "3.7.3"
  }
 },
 "nbformat": 4,
 "nbformat_minor": 2
}
